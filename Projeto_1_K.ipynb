{
  "nbformat": 4,
  "nbformat_minor": 0,
  "metadata": {
    "colab": {
      "name": "Projeto_1_K",
      "provenance": [],
      "authorship_tag": "ABX9TyMstZPh2wPYdLCxrl3nDNUn",
      "include_colab_link": true
    },
    "kernelspec": {
      "name": "python3",
      "display_name": "Python 3"
    }
  },
  "cells": [
    {
      "cell_type": "markdown",
      "metadata": {
        "id": "view-in-github",
        "colab_type": "text"
      },
      "source": [
        "<a href=\"https://colab.research.google.com/github/RehMarNo/Calculo_Numerico/blob/master/Projeto_1_K.ipynb\" target=\"_parent\"><img src=\"https://colab.research.google.com/assets/colab-badge.svg\" alt=\"Open In Colab\"/></a>"
      ]
    },
    {
      "cell_type": "markdown",
      "metadata": {
        "id": "J1mZukyvr7PT",
        "colab_type": "text"
      },
      "source": [
        "\n",
        "#Universidade Federal da Paraíba\n",
        "\n",
        "#Cálculo Numérico\n",
        "\n",
        "#Profª Kely Diana Villacorta Villacorta\n",
        "\n",
        "Trabalho 1\n",
        "\n",
        "Aluna: Renata Marques             \n",
        "\n",
        "Matrícula: 20160136480\n"
      ]
    },
    {
      "cell_type": "markdown",
      "metadata": {
        "id": "CUPrvmExISv2",
        "colab_type": "text"
      },
      "source": [
        "#Questão 1\n",
        "Determine a profundidade crítica:\n",
        "\n",
        "1-(400/(9.81*(3*y+(y²/2))³)*(3+y)=0\n",
        "\n",
        "(a) graficamente;\n",
        "\n",
        "(b) Considerando o intervalo inicial [1, 3] e a precisão e = 10⁻³\n",
        ", usando o método da biseção;\n",
        "\n",
        "(c) Considerando o intervalo inicial [0.2, 2.2] e a precisão e = 10⁻⁴\n",
        ", usando o método da falsa posição."
      ]
    },
    {
      "cell_type": "code",
      "metadata": {
        "id": "kvvZfpGRIKrj",
        "colab_type": "code",
        "colab": {}
      },
      "source": [
        "import numpy as np \n",
        "import math"
      ],
      "execution_count": null,
      "outputs": []
    },
    {
      "cell_type": "code",
      "metadata": {
        "id": "gh11mb88nqC5",
        "colab_type": "code",
        "colab": {}
      },
      "source": [
        "#Função dada pela questão\n",
        "def fun1(c):\n",
        "  s = 400/(9.81*(3*c+(c**2/2))**3)\n",
        "  y = 1-s*(3+c)\n",
        "  return y"
      ],
      "execution_count": null,
      "outputs": []
    },
    {
      "cell_type": "code",
      "metadata": {
        "id": "93rmroBILF6o",
        "colab_type": "code",
        "colab": {
          "base_uri": "https://localhost:8080/",
          "height": 272
        },
        "outputId": "f64f1a16-03df-4e3b-e257-cd7db6e66c12"
      },
      "source": [
        "#bisseção\n",
        "\n",
        "a=1\n",
        "b=3\n",
        "e=0.001\n",
        "k = ((math.log(b-a)-math.log(e))/math.log(2))\n",
        "ca = math.floor(k)+1\n",
        "print(ca)\n",
        "\n",
        "for i in range(ca):\n",
        "  #Calculando o novo ponto\n",
        "  c=(a+b)/2\n",
        "  #Verificando se já foi encontrado o zero da função\n",
        "  if (fun1(c) == 0) or (abs(b-a)/2 < e) or (abs(fun1(c)) < e):\n",
        "    print(\"Zero da Função:\")\n",
        "    print(fun1(c))\n",
        "    print(c)\n",
        "    print(i)\n",
        "    break\n",
        "  #Calcula o novo intervalo\n",
        "  if (fun1(c)>0) and (fun1(a)>0):\n",
        "    a = c\n",
        "    print(\"a = c\")\n",
        "  else:\n",
        "    b = c\n",
        "    print(\"b = c\")\n",
        "  "
      ],
      "execution_count": null,
      "outputs": [
        {
          "output_type": "stream",
          "text": [
            "11\n",
            "b = c\n",
            "b = c\n",
            "b = c\n",
            "b = c\n",
            "b = c\n",
            "b = c\n",
            "b = c\n",
            "b = c\n",
            "b = c\n",
            "b = c\n",
            "Zero da Função:\n",
            "-2.792271138018301\n",
            "1.0009765625\n",
            "10\n"
          ],
          "name": "stdout"
        }
      ]
    },
    {
      "cell_type": "code",
      "metadata": {
        "id": "c0ZQ72SZwm_4",
        "colab_type": "code",
        "colab": {
          "base_uri": "https://localhost:8080/",
          "height": 1000
        },
        "outputId": "377e1650-0b87-4931-fc4a-0ee5d40cbca2"
      },
      "source": [
        "#Falsa Posição\n",
        "\n",
        "a=0.5\n",
        "b=2.2\n",
        "e=0.0001\n",
        "k = ((math.log(b-a)-math.log(e))/math.log(2))\n",
        "ca = math.floor(k)+1\n",
        "print(ca)\n",
        "\n",
        "for i in range(1000):\n",
        "  #Calculando o novo ponto\n",
        "  c = (a*abs(fun1(b))+b*abs(fun1(a)))/abs(fun1(b)-fun1(a))\n",
        "  #Verificando se já foi encontrado o zero da função\n",
        "  if (fun1(c) == 0) or (abs(b-a)/2 < e) or (abs(fun1(c)) < e):\n",
        "    print(\"Zero da Função:\")\n",
        "    print(fun1(c))\n",
        "    print(c)\n",
        "    print(i)\n",
        "    break\n",
        "  #Calcula o novo intervalo\n",
        "  if (fun1(c)>0) and (fun1(a)>0):\n",
        "    a = c\n",
        "    print(\"a = c\")\n",
        "  else:\n",
        "    b = c\n",
        "    print(\"b = c\")\n",
        "  "
      ],
      "execution_count": null,
      "outputs": [
        {
          "output_type": "stream",
          "text": [
            "15\n",
            "b = c\n",
            "b = c\n",
            "b = c\n",
            "b = c\n",
            "b = c\n",
            "b = c\n",
            "b = c\n",
            "b = c\n",
            "b = c\n",
            "b = c\n",
            "b = c\n",
            "b = c\n",
            "b = c\n",
            "b = c\n",
            "b = c\n",
            "b = c\n",
            "b = c\n",
            "b = c\n",
            "b = c\n",
            "b = c\n",
            "b = c\n",
            "b = c\n",
            "b = c\n",
            "b = c\n",
            "b = c\n",
            "b = c\n",
            "b = c\n",
            "b = c\n",
            "b = c\n",
            "b = c\n",
            "b = c\n",
            "b = c\n",
            "b = c\n",
            "b = c\n",
            "b = c\n",
            "b = c\n",
            "b = c\n",
            "b = c\n",
            "b = c\n",
            "b = c\n",
            "b = c\n",
            "b = c\n",
            "b = c\n",
            "b = c\n",
            "b = c\n",
            "b = c\n",
            "b = c\n",
            "b = c\n",
            "b = c\n",
            "b = c\n",
            "b = c\n",
            "b = c\n",
            "b = c\n",
            "b = c\n",
            "b = c\n",
            "b = c\n",
            "b = c\n",
            "b = c\n",
            "b = c\n",
            "b = c\n",
            "b = c\n",
            "b = c\n",
            "b = c\n",
            "b = c\n",
            "b = c\n",
            "b = c\n",
            "b = c\n",
            "b = c\n",
            "b = c\n",
            "b = c\n",
            "b = c\n",
            "b = c\n",
            "b = c\n",
            "b = c\n",
            "b = c\n",
            "b = c\n",
            "b = c\n",
            "b = c\n",
            "b = c\n",
            "b = c\n",
            "b = c\n",
            "b = c\n",
            "b = c\n",
            "b = c\n",
            "b = c\n",
            "b = c\n",
            "b = c\n",
            "b = c\n",
            "b = c\n",
            "b = c\n",
            "b = c\n",
            "b = c\n",
            "b = c\n",
            "b = c\n",
            "b = c\n",
            "b = c\n",
            "b = c\n",
            "b = c\n",
            "b = c\n",
            "b = c\n",
            "b = c\n",
            "b = c\n",
            "b = c\n",
            "b = c\n",
            "b = c\n",
            "b = c\n",
            "b = c\n",
            "b = c\n",
            "b = c\n",
            "b = c\n",
            "b = c\n",
            "b = c\n",
            "b = c\n",
            "b = c\n",
            "b = c\n",
            "b = c\n",
            "b = c\n",
            "b = c\n",
            "b = c\n",
            "b = c\n",
            "b = c\n",
            "b = c\n",
            "b = c\n",
            "b = c\n",
            "b = c\n",
            "b = c\n",
            "b = c\n",
            "b = c\n",
            "b = c\n",
            "b = c\n",
            "b = c\n",
            "b = c\n",
            "b = c\n",
            "b = c\n",
            "b = c\n",
            "b = c\n",
            "b = c\n",
            "b = c\n",
            "b = c\n",
            "b = c\n",
            "b = c\n",
            "Zero da Função:\n",
            "9.370691842613965e-05\n",
            "1.514098139135478\n",
            "141\n"
          ],
          "name": "stdout"
        }
      ]
    },
    {
      "cell_type": "markdown",
      "metadata": {
        "id": "iZxEi3wz5Z7m",
        "colab_type": "text"
      },
      "source": [
        "#Questão 2\n",
        "Determine, quando os subúrbios forem 15% maiores que a cidade, o tempo e os valores correspondentes de Pu(t) e Ps(t), com uma precisão e = 10⁻³:\n",
        "\n",
        "(a) Usando o método grafico;\n",
        "\n",
        "(b) Usando o método da falsa posição;\n",
        "\n",
        "(c) Usando o método de Newton."
      ]
    },
    {
      "cell_type": "code",
      "metadata": {
        "id": "qEgc2Wqo8GPL",
        "colab_type": "code",
        "colab": {}
      },
      "source": [
        "#Função dada pela questão\n",
        "def fun2(c):\n",
        "  y = 92*np.exp(-0.05*c)+2852*np.exp(-0.14*c)+3921.5*np.exp(-0.09*c)-320\n",
        "  return y\n",
        "\n",
        "def fun22(c):\n",
        "  y = -4.6*np.exp(-0.05*c)-399.28*np.exp(-0.14*c)-352.935*np.exp(-0.09*c)\n",
        "  return y"
      ],
      "execution_count": null,
      "outputs": []
    },
    {
      "cell_type": "code",
      "metadata": {
        "id": "Y2caZqK46Ojy",
        "colab_type": "code",
        "colab": {
          "base_uri": "https://localhost:8080/",
          "height": 170
        },
        "outputId": "c82da28e-3658-4ee7-c966-a6ffef55a989"
      },
      "source": [
        "#Falsa Posição\n",
        "\n",
        "a=30\n",
        "b=40\n",
        "e=0.001\n",
        "k = ((math.log(b-a)-math.log(e))/math.log(2))\n",
        "ca = math.floor(k)+1\n",
        "\n",
        "for i in range(ca):\n",
        "  #Calculando o novo ponto\n",
        "  c = (a*abs(fun2(b))+b*abs(fun2(a)))/abs(fun2(b)-fun2(a))\n",
        "  print(fun2(c))\n",
        "  #Verificando se já foi encontrado o zero da função\n",
        "  if (fun2(c) == 0) or (abs(b-a)/2 < e) or (abs(fun2(c)) < e):\n",
        "    print(\"Zero da Função:\")\n",
        "    print(fun2(c))\n",
        "    print(c)\n",
        "    print(i)\n",
        "    break\n",
        "  #Calcula o novo intervalo\n",
        "  if (fun2(c)*fun2(a)<0):\n",
        "    b = c\n",
        "    print(\"b = c\")\n",
        "  else:\n",
        "    a = c\n",
        "    print(\"a = c\")\n"
      ],
      "execution_count": null,
      "outputs": [
        {
          "output_type": "stream",
          "text": [
            "-3.667528982683507\n",
            "b = c\n",
            "-0.04075483681970127\n",
            "b = c\n",
            "-0.0004494195145525737\n",
            "Zero da Função:\n",
            "-0.0004494195145525737\n",
            "30.22510856852512\n",
            "2\n"
          ],
          "name": "stdout"
        }
      ]
    },
    {
      "cell_type": "code",
      "metadata": {
        "id": "3OE6T8K-EIQm",
        "colab_type": "code",
        "colab": {
          "base_uri": "https://localhost:8080/",
          "height": 153
        },
        "outputId": "62892f49-aabc-4a68-f456-1f865d7c8e7c"
      },
      "source": [
        "#Newton\n",
        "\n",
        "a=30\n",
        "e=0.001\n",
        "\n",
        "#Verifica se o ponto inicial é o zero da função\n",
        "if abs(fun2(a)) < e:\n",
        "  x = a\n",
        "else:\n",
        "  i = 1\n",
        "  flag = True\n",
        "  #Calcula o método interativo\n",
        "  while flag:\n",
        "    c = a-(fun2(a)/fun22(a))\n",
        "    print(fun2(c))\n",
        "    print(c)\n",
        "    print(i)\n",
        "    #Verifica se foi achado a raiz \n",
        "    if (fun2(c) == 0) or (abs(b-a)/2 < e) or (abs(fun2(c)) < e):\n",
        "      x = c\n",
        "      flag = False\n",
        "    \n",
        "    a = c\n",
        "    i = i+1\n",
        "\n",
        "print(\"Zero da Função:\")\n",
        "print(x)\n"
      ],
      "execution_count": null,
      "outputs": [
        {
          "output_type": "stream",
          "text": [
            "0.07437086333118259\n",
            "30.222619846555563\n",
            "1\n",
            "9.040651264058397e-06\n",
            "30.225093317064353\n",
            "2\n",
            "Zero da Função:\n",
            "30.225093317064353\n"
          ],
          "name": "stdout"
        }
      ]
    },
    {
      "cell_type": "markdown",
      "metadata": {
        "id": "m9FTe-d-Z7oW",
        "colab_type": "text"
      },
      "source": [
        "#Questão 3\n",
        "Dada a função f(x) = x³ − 6x² + 11x − 6, com 3 raizes reais:\n",
        "Determine:\n",
        "\n",
        "(a) todas as raízes de f graficamente;\n",
        "\n",
        "(b) para qual raiz de f, a sequência gerada converge para a aproximação inicial x0 = 0.5 e a precisão e = 10⁻⁴, usando o método de Newton;\n",
        "\n",
        "(c) para qual raiz de f, a sequência gerada converge para as aproximações iniciais x0 = 2.4 e x1 = 2.6, e a precisão e = 10⁻⁴, usando o método da secante;"
      ]
    },
    {
      "cell_type": "code",
      "metadata": {
        "colab_type": "code",
        "id": "8xkm7Kz0eENM",
        "colab": {}
      },
      "source": [
        "#Função dada pela questão\n",
        "def fun3(c):\n",
        "  y = c**3-6*c**2+11*c-6\n",
        "  return y\n",
        "\n",
        "def fun33(c):\n",
        "  y = 3*c**2-12*c+11\n",
        "  return y"
      ],
      "execution_count": null,
      "outputs": []
    },
    {
      "cell_type": "code",
      "metadata": {
        "id": "h--dBlEibLlH",
        "colab_type": "code",
        "colab": {
          "base_uri": "https://localhost:8080/",
          "height": 255
        },
        "outputId": "47b0bd7f-3dbb-4768-b141-d642f9b6c08f"
      },
      "source": [
        "#Newton\n",
        "\n",
        "a=0.5\n",
        "e=0.0001\n",
        "\n",
        "#Verifica se o ponto inicial é o zero da função\n",
        "if abs(fun3(a)) < e:\n",
        "  x = a\n",
        "else:\n",
        "  i = 1\n",
        "  flag = True\n",
        "  #Calcula o método interativo\n",
        "  while flag:\n",
        "    c = a-(fun3(a)/fun33(a))\n",
        "    print(fun3(c))\n",
        "    print(c)\n",
        "    print(i)\n",
        "\n",
        "    #Verifica se foi achado a raiz\n",
        "    if (fun3(c) == 0) or (abs(c-a)/2 < e) or (abs(fun3(c)) < e):\n",
        "      x = c\n",
        "      flag = False\n",
        "    \n",
        "    a = c\n",
        "    i = i+1\n",
        "\n",
        "print(\"Zero da Função:\")\n",
        "print(x)"
      ],
      "execution_count": null,
      "outputs": [
        {
          "output_type": "stream",
          "text": [
            "-0.4438234568915913\n",
            "0.8260869565217391\n",
            "1\n",
            "-0.06777922703707873\n",
            "0.9676928725022287\n",
            "2\n",
            "-0.002918270048541949\n",
            "0.9985440462210053\n",
            "3\n",
            "-6.337903904807263e-06\n",
            "0.9999968310631105\n",
            "4\n",
            "Zero da Função:\n",
            "0.9999968310631105\n"
          ],
          "name": "stdout"
        }
      ]
    },
    {
      "cell_type": "code",
      "metadata": {
        "id": "PygZsjAYgj9G",
        "colab_type": "code",
        "colab": {
          "base_uri": "https://localhost:8080/",
          "height": 102
        },
        "outputId": "0c1c8cb4-82a9-43cc-cb8b-377a7140ffaa"
      },
      "source": [
        "#Secante\n",
        "\n",
        "a=2.4\n",
        "b=2.6\n",
        "e=0.0001\n",
        "\n",
        "#Verifica se o ponto inicial é o zero da função\n",
        "if abs(fun3(a)) < e:\n",
        "  x = a\n",
        "else:\n",
        "  i = 1\n",
        "  flag = True\n",
        "  #Calcula o método interativo\n",
        "  while flag:\n",
        "    c = b-((fun3(b)*(b-a))/(fun3(b)-fun3(a)))\n",
        "    print(fun3(c))\n",
        "    print(c)\n",
        "    print(i)\n",
        "    \n",
        "    #Verifica se foi achado a raiz\n",
        "    if (fun3(c) == 0) or (abs(b-a)/2 < e) or (abs(fun3(c)) < e):\n",
        "      x = c\n",
        "      flag = False\n",
        "    \n",
        "    a = c\n",
        "    i = i+1\n",
        "\n",
        "print(\"Zero da Função:\")\n",
        "print(x)\n"
      ],
      "execution_count": null,
      "outputs": [
        {
          "output_type": "stream",
          "text": [
            "-3.5704772471945034e-13\n",
            "0.999999999999821\n",
            "1\n",
            "Zero da Função:\n",
            "0.999999999999821\n"
          ],
          "name": "stdout"
        }
      ]
    },
    {
      "cell_type": "markdown",
      "metadata": {
        "id": "JDrXPtmRil1z",
        "colab_type": "text"
      },
      "source": [
        "#Questão 6\n",
        "Usando a iteração de ponto fixo, determine a raiz positiva, se possível, da seguinte função:\n",
        "f(x) = sen(√x) − x, com precisão e ≤ 0.01, considerando como\n",
        "\n",
        "(a) aproximação inicial x0 = 0;\n",
        "\n",
        "(b) aproximação inicial x0 = 0.5;\n",
        "\n",
        "(c) aproximação inicial x0 = 1000."
      ]
    },
    {
      "cell_type": "code",
      "metadata": {
        "colab_type": "code",
        "id": "dzfxBOvmqw4G",
        "colab": {}
      },
      "source": [
        "#função fi de f(x) = sen(√x) − x\n",
        "def fun4(c):\n",
        "  y = math.sin(math.sqrt(c))\n",
        "  return y\n"
      ],
      "execution_count": null,
      "outputs": []
    },
    {
      "cell_type": "code",
      "metadata": {
        "id": "iVwb9vSjoCXJ",
        "colab_type": "code",
        "colab": {
          "base_uri": "https://localhost:8080/",
          "height": 51
        },
        "outputId": "64dc5587-b3d3-466f-a2eb-349a244aeeea"
      },
      "source": [
        "#Ponto Fixo\n",
        "#(a) aproximação inicial x0 = 0;\n",
        "\n",
        "a=0\n",
        "e=0.01\n",
        "n=15\n",
        "\n",
        "#Verifica se o ponto inicial é o zero da função\n",
        "if abs(fun4(a)) < e:\n",
        "  x = a\n",
        "else:\n",
        "  i = 1\n",
        "  flag = True\n",
        "  #Calcula o método interativo\n",
        "  while flag:\n",
        "    c = fun4(a)\n",
        "    print(fun4(c))\n",
        "    print(c)\n",
        "    print(i)\n",
        "\n",
        "    #Verifica se foi achado a raiz\n",
        "    if (fun4(c) == 0) or (abs(c-a)/2 <= e) or (abs(fun4(c)) <= e):\n",
        "      x = c\n",
        "      flag = False\n",
        "    \n",
        "    a = c\n",
        "    i = i+1\n",
        "    if ((i==n) and (abs(c-a)/2 >= e)):\n",
        "      print(\"Não Converge!\")\n",
        "print(\"Zero da Função:\")\n",
        "print(x)\n"
      ],
      "execution_count": null,
      "outputs": [
        {
          "output_type": "stream",
          "text": [
            "Zero da Função:\n",
            "0\n"
          ],
          "name": "stdout"
        }
      ]
    },
    {
      "cell_type": "code",
      "metadata": {
        "colab_type": "code",
        "id": "zkuVAPuXrlik",
        "colab": {
          "base_uri": "https://localhost:8080/",
          "height": 255
        },
        "outputId": "93ea2763-535e-485b-846b-7e0ebfb6dda7"
      },
      "source": [
        "#Ponto Fixo\n",
        "#(b) aproximação inicial x0 = 0.5;\n",
        "\n",
        "a=0.5\n",
        "e=0.01\n",
        "n=15\n",
        "\n",
        "#Verifica se o ponto inicial é o zero da função\n",
        "if abs(fun4(a)) < e:\n",
        "  x = a\n",
        "else:\n",
        "  i = 1\n",
        "  flag = True\n",
        "  #Calcula o método interativo\n",
        "  while flag:\n",
        "    c = fun4(a)\n",
        "    print(fun4(c))\n",
        "    print(c)\n",
        "    print(i)\n",
        "\n",
        "    #Verifica se foi achado a raiz\n",
        "    if (fun4(c) == 0) or (abs(c-a)/2 <= e) or (abs(fun4(c)) <= e):\n",
        "      x = c\n",
        "      flag = False\n",
        "    \n",
        "    a = c\n",
        "    i = i+1\n",
        "    if ((i==n) and (abs(c-a)/2 > e)):\n",
        "      print(\"Não Converge!\")\n",
        "\n",
        "print(\"Zero da Função:\")\n",
        "print(x)\n"
      ],
      "execution_count": null,
      "outputs": [
        {
          "output_type": "stream",
          "text": [
            "0.7215237970589348\n",
            "0.6496369390800625\n",
            "1\n",
            "0.7509011663498799\n",
            "0.7215237970589348\n",
            "2\n",
            "0.7620968510202633\n",
            "0.7509011663498799\n",
            "3\n",
            "0.7662481431596434\n",
            "0.7620968510202633\n",
            "4\n",
            "Zero da Função:\n",
            "0.7620968510202633\n"
          ],
          "name": "stdout"
        }
      ]
    },
    {
      "cell_type": "code",
      "metadata": {
        "colab_type": "code",
        "id": "bYpjNhpZrmLB",
        "colab": {
          "base_uri": "https://localhost:8080/",
          "height": 357
        },
        "outputId": "7b700550-b3bc-4030-8253-7d49fd4608e4"
      },
      "source": [
        "#Ponto Fixo\n",
        "#(a) aproximação inicial x0 = 1000;\n",
        "\n",
        "a=1000\n",
        "e=0.01\n",
        "n=15\n",
        "\n",
        "#Verifica se o ponto inicial é o zero da função\n",
        "if abs(fun4(a)) < e:\n",
        "  x = a\n",
        "else:\n",
        "  i = 1\n",
        "  flag = True\n",
        "  #Calcula o método interativo\n",
        "  while flag:\n",
        "    c = fun4(a)\n",
        "    print(fun4(c))\n",
        "    print(c)\n",
        "    print(i)\n",
        "\n",
        "    #Verifica se foi achado a raiz\n",
        "    if (fun4(c) == 0) or (abs(c-a)/2 < e) or (abs(fun4(c)) < e):\n",
        "      x = c\n",
        "      flag = False\n",
        "    \n",
        "    a = c\n",
        "    i = i+1\n",
        "    if ((i==n) and (abs(c-a)/2 >= e)):\n",
        "      print(\"Não Converge!\")\n",
        "print(\"Zero da Função:\")\n",
        "print(x)\n",
        "\n"
      ],
      "execution_count": null,
      "outputs": [
        {
          "output_type": "stream",
          "text": [
            "0.43783272853519256\n",
            "0.2053781377222452\n",
            "1\n",
            "0.6144505096642405\n",
            "0.43783272853519256\n",
            "2\n",
            "0.7060246281267231\n",
            "0.6144505096642405\n",
            "3\n",
            "0.7448117752745909\n",
            "0.7060246281267231\n",
            "4\n",
            "0.7598125744813216\n",
            "0.7448117752745909\n",
            "5\n",
            "0.7654062023031897\n",
            "0.7598125744813216\n",
            "6\n",
            "Zero da Função:\n",
            "0.7598125744813216\n"
          ],
          "name": "stdout"
        }
      ]
    },
    {
      "cell_type": "markdown",
      "metadata": {
        "id": "b6JmCps-_Dx3",
        "colab_type": "text"
      },
      "source": [
        "#Questão 8\n",
        "(a) Para x = 900, 600, 250, 400 , haverá comida suficiente para satisfazer a média diária de consumo?\n",
        "\n",
        "(b) Qual é o número máximo de animais de cada espécie que poderia ser individualmente acrescido ao sistema com a provisão de alimentos ainda satisfazendo o consumo?\n",
        "\n",
        "(c) Se a espécie 2 for extinta, qual é o aumento de indivı́duos de cada uma das espécies remanescentes que poderia ser sustentado?"
      ]
    },
    {
      "cell_type": "code",
      "metadata": {
        "id": "JRMPZpAnO7Sz",
        "colab_type": "code",
        "colab": {}
      },
      "source": [
        "A = np.array([[1, 2, 0, 3], [1, 0, 2, 2], [0, 0, 1, 1]])\n",
        "b = np.array([[3500, 2700, 900]]).T"
      ],
      "execution_count": null,
      "outputs": []
    },
    {
      "cell_type": "code",
      "metadata": {
        "id": "rApOVMh_PoOm",
        "colab_type": "code",
        "colab": {
          "base_uri": "https://localhost:8080/",
          "height": 34
        },
        "outputId": "114da1ec-b18d-434c-8d4a-8751b9f38d4e"
      },
      "source": [
        "#(a)\n",
        "X= np.array([900, 600, 250, 400])\n",
        "\n",
        "#Multiplica a matriz A com o vetor X\n",
        "Ax = A*X\n",
        "\n",
        "#Verifica se o vetor X é uma solução ótima\n",
        "if (Ax.all == b.all):\n",
        "  print(\"Haverá comida suficiente!\")\n",
        "else:\n",
        "  print(\"Não haverá comida suficiente!\")"
      ],
      "execution_count": null,
      "outputs": [
        {
          "output_type": "stream",
          "text": [
            "Não haverá comida suficiente!\n"
          ],
          "name": "stdout"
        }
      ]
    },
    {
      "cell_type": "code",
      "metadata": {
        "deletable": true,
        "editable": true,
        "id": "T_P5W-eQ-g-a",
        "colab_type": "code",
        "colab": {}
      },
      "source": [
        "def gauss_jordan(A, b):\n",
        "    \n",
        "    # Gerar matriz aumentada\n",
        "    G = np.append(A, b, 1).astype(float)\n",
        "\n",
        "    # Aplicar Eliminação de Gauss\n",
        "    n = len(G[:, 0])\n",
        "    for i in range(n - 1):\n",
        "        if G[i, i] == 0:\n",
        "            return -1\n",
        "        for j in range(i + 1, n):\n",
        "            G[j] -= G[i] * G[j, i] / G[i, i]\n",
        "    \n",
        "    # Continuar com o Método de Gauss-Jordan\n",
        "    n = len(G[:, 0])\n",
        "    for i in range(n - 1, -1, -1):\n",
        "        G[i] /= G[i, i]\n",
        "        for j in range(i):\n",
        "            G[j] -= G[i] * G[j, i]\n",
        "    \n",
        "    # Retornar resultados\n",
        "    return G[:, n:]"
      ],
      "execution_count": null,
      "outputs": []
    },
    {
      "cell_type": "code",
      "metadata": {
        "id": "PooNvff136Ae",
        "colab_type": "code",
        "colab": {}
      },
      "source": [
        "\n",
        "# Cálculo da matriz inversa\n",
        "def inverse(A):\n",
        "    \n",
        "    # Montar a matriz aumentada [A|I]\n",
        "    n = len(A[0])\n",
        "    I = np.zeros((n, n))\n",
        "    for i in range(n):\n",
        "        I[i, i] = 1\n",
        "    \n",
        "    # Encontrar a inversa pelo método de Gauss-Jordan\n",
        "    return gauss_jordan(A, I)"
      ],
      "execution_count": null,
      "outputs": []
    },
    {
      "cell_type": "code",
      "metadata": {
        "id": "C8hUrUKkOTrt",
        "colab_type": "code",
        "colab": {
          "base_uri": "https://localhost:8080/",
          "height": 102
        },
        "outputId": "124fd9bc-bad9-40b8-f90c-ca5c63876f86"
      },
      "source": [
        "#(b)\n",
        "\n",
        "print('\\nMétodo de Gauss-Jordan:')\n",
        "print(gauss_jordan(A, b))"
      ],
      "execution_count": null,
      "outputs": [
        {
          "output_type": "stream",
          "text": [
            "\n",
            "Método de Gauss-Jordan:\n",
            "[[0.0e+00 9.0e+02]\n",
            " [1.5e+00 1.3e+03]\n",
            " [1.0e+00 9.0e+02]]\n"
          ],
          "name": "stdout"
        }
      ]
    },
    {
      "cell_type": "code",
      "metadata": {
        "id": "R95ocFNsQs-1",
        "colab_type": "code",
        "colab": {}
      },
      "source": [
        "A = np.array([[1, 0, 3], [1, 2, 2], [0, 1, 1]])\n",
        "b = np.array([[3500, 2700, 900]]).T"
      ],
      "execution_count": null,
      "outputs": []
    },
    {
      "cell_type": "code",
      "metadata": {
        "deletable": true,
        "editable": true,
        "colab_type": "code",
        "id": "JvI2K6gjQz0E",
        "colab": {}
      },
      "source": [
        "def gauss_jordan(A, b):\n",
        "  \n",
        "    # Gerar matriz aumentada\n",
        "    G = np.append(A, b, 1).astype(float)\n",
        "\n",
        "    # Aplicar Eliminação de Gauss\n",
        "    n = len(G[:, 0])\n",
        "    for i in range(n - 1):\n",
        "        if G[i, i] == 0:\n",
        "            return -1\n",
        "        for j in range(i + 1, n):\n",
        "            G[j] -= G[i] * G[j, i] / G[i, i]\n",
        "    \n",
        "    # Continuar com o Método de Gauss-Jordan\n",
        "    n = len(G[:, 0])\n",
        "    for i in range(n - 1, -1, -1):\n",
        "        G[i] /= G[i, i]\n",
        "        for j in range(i):\n",
        "            G[j] -= G[i] * G[j, i]\n",
        "    \n",
        "    # Retornar resultados\n",
        "    return G[:, n:]"
      ],
      "execution_count": null,
      "outputs": []
    },
    {
      "cell_type": "code",
      "metadata": {
        "colab_type": "code",
        "id": "EYrp4TayQ2K0",
        "colab": {}
      },
      "source": [
        "\n",
        "# Cálculo da matriz inversa\n",
        "def inverse(A):\n",
        "\n",
        "    # Montar a matriz aumentada [A|I]\n",
        "    n = len(A[0])\n",
        "    I = np.zeros((n, n))\n",
        "    for i in range(n):\n",
        "        I[i, i] = 1\n",
        "    \n",
        "    # Encontrar a inversa pelo método de Gauss-Jordan\n",
        "    return gauss_jordan(A, b)"
      ],
      "execution_count": null,
      "outputs": []
    },
    {
      "cell_type": "code",
      "metadata": {
        "colab_type": "code",
        "id": "YHyUC7LOQ5Ct",
        "colab": {
          "base_uri": "https://localhost:8080/",
          "height": 102
        },
        "outputId": "0d3ba028-51cf-4ad6-84ae-237d2f66a7fe"
      },
      "source": [
        "#(c)\n",
        "\n",
        "print('\\nMétodo de Gauss-Jordan:')\n",
        "print(gauss_jordan(A, b))"
      ],
      "execution_count": null,
      "outputs": [
        {
          "output_type": "stream",
          "text": [
            "\n",
            "Método de Gauss-Jordan:\n",
            "[[900.        ]\n",
            " [ 33.33333333]\n",
            " [866.66666667]]\n"
          ],
          "name": "stdout"
        }
      ]
    }
  ]
}